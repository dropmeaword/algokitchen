{
 "cells": [
  {
   "cell_type": "markdown",
   "metadata": {},
   "source": [
    "## A cautionary tale about data"
   ]
  },
  {
   "cell_type": "markdown",
   "metadata": {},
   "source": [
    "Nice clean data that is perfectly accurate and ready to use doesn't exist. Get over it. Most of the stuff you can get your hands into has to be scrubbed clean, aligned properly, scaled. Good data is hard to come by. Here are some tips over how you can get data when you need it."
   ]
  },
  {
   "cell_type": "markdown",
   "metadata": {},
   "source": [
    "## Structured data testing tool"
   ]
  },
  {
   "cell_type": "markdown",
   "metadata": {},
   "source": [
    "Many of the major websites who are good citizens of the net provide [microformats](http://microformats.org/) within their HTML. So that other machines can read the content of those pages and extract contextual information form them. You can find out if a particular page has uses microformats by using Google's tool.\n",
    "\n",
    "Google has this wonderful tool called the [Structured Data Testing Tool](https://developers.google.com/structured-data/testing-tool/) that allows you to paste any dataset or fetch any URL and it will tell you if it can find **any** structured data. Hard to emphasize how awesome this is."
   ]
  },
  {
   "cell_type": "markdown",
   "metadata": {},
   "source": [
    "## Geo coordinates"
   ]
  },
  {
   "cell_type": "markdown",
   "metadata": {},
   "source": [
    "There are geolocation servers and full gazetteers online, so you geographic info is not difficult to come by. But if you are in a rush and you don't need much, just one city you can get its geolocation from wikipedia."
   ]
  },
  {
   "cell_type": "code",
   "execution_count": 17,
   "metadata": {
    "collapsed": false
   },
   "outputs": [
    {
     "name": "stdout",
     "output_type": "stream",
     "text": [
      "41.000 39.733\n"
     ]
    }
   ],
   "source": [
    "import requests\n",
    "from lxml import html\n",
    "\n",
    "URL = 'https://en.wikipedia.org/wiki/Trabzon'\n",
    "\n",
    "# In the case of extracting content from Wikipedia, be sure to\n",
    "# review its \"Bot Policy,\" which is defined at\n",
    "# http://meta.wikimedia.org/wiki/Bot_policy#Unacceptable_usage\n",
    "\n",
    "page = requests.get(URL)\n",
    "\n",
    "# check if request was successful\n",
    "if (page.status_code == 200):\n",
    "    markup = page.text  # get contents of page\n",
    "    tree = html.fromstring(markup)  # load it in our scraping tool of choice\n",
    "\n",
    "lat, lon = tree.xpath('//span[@class=\"geo\"]')[0].text_content().split('; ')\n",
    "print lat, lon"
   ]
  },
  {
   "cell_type": "markdown",
   "metadata": {},
   "source": [
    "## Creating a map to display geolocation\n",
    "To display the geolocation we just fetched we can just inline a google map at those coordinates."
   ]
  },
  {
   "cell_type": "code",
   "execution_count": 23,
   "metadata": {
    "collapsed": false
   },
   "outputs": [
    {
     "name": "stdout",
     "output_type": "stream",
     "text": [
      "41.000 39.733\n"
     ]
    },
    {
     "data": {
      "text/html": [
       "\n",
       "        <iframe\n",
       "            width=\"425px\"\n",
       "            height=\"350px\"\n",
       "            src=\"http://maps.google.com/maps?q=41.000+39.733&ie=UTF8&t=h&z=12&41.000,39.733&output=embed\"\n",
       "            frameborder=\"0\"\n",
       "            allowfullscreen\n",
       "        ></iframe>\n",
       "        "
      ],
      "text/plain": [
       "<IPython.lib.display.IFrame at 0x1797bb0>"
      ]
     },
     "metadata": {},
     "output_type": "display_data"
    }
   ],
   "source": [
    "from IPython.display import IFrame\n",
    "from IPython.core.display import display\n",
    "\n",
    "print lat, lon\n",
    "\n",
    "# Google Maps URL template for an iframe\n",
    "google_maps_url = \"http://maps.google.com/maps?q={0}+{1}&ie=UTF8&t=h&z=12&{0},{1}&output=embed\".format(lat, lon)\n",
    "\n",
    "display(IFrame(google_maps_url, '425px', '350px'))"
   ]
  },
  {
   "cell_type": "code",
   "execution_count": null,
   "metadata": {
    "collapsed": true
   },
   "outputs": [],
   "source": []
  }
 ],
 "metadata": {
  "kernelspec": {
   "display_name": "Python 2",
   "language": "python",
   "name": "python2"
  },
  "language_info": {
   "codemirror_mode": {
    "name": "ipython",
    "version": 2
   },
   "file_extension": ".py",
   "mimetype": "text/x-python",
   "name": "python",
   "nbconvert_exporter": "python",
   "pygments_lexer": "ipython2",
   "version": "2.7.3"
  }
 },
 "nbformat": 4,
 "nbformat_minor": 0
}
