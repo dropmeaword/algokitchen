{
 "cells": [
  {
   "cell_type": "markdown",
   "metadata": {},
   "source": [
    "## Embedding images\n",
    "You can embed images from a remote location by using their url."
   ]
  },
  {
   "cell_type": "code",
   "execution_count": 10,
   "metadata": {
    "collapsed": false
   },
   "outputs": [
    {
     "data": {
      "text/html": [
       "<img src=\"http://www.hedylamarr.org/wp-content/uploads/2014/09/1440_Hedy-Lamarr.jpg\"/>"
      ],
      "text/plain": [
       "<IPython.core.display.Image object>"
      ]
     },
     "execution_count": 10,
     "metadata": {},
     "output_type": "execute_result"
    }
   ],
   "source": [
    "from IPython.display import Image\n",
    "\n",
    "Image(url='http://www.hedylamarr.org/wp-content/uploads/2014/09/1440_Hedy-Lamarr.jpg')"
   ]
  },
  {
   "cell_type": "markdown",
   "metadata": {},
   "source": [
    "## Youtube videos"
   ]
  },
  {
   "cell_type": "code",
   "execution_count": 2,
   "metadata": {
    "collapsed": false
   },
   "outputs": [
    {
     "data": {
      "text/html": [
       "\n",
       "        <iframe\n",
       "            width=\"400\"\n",
       "            height=\"300\"\n",
       "            src=\"https://www.youtube.com/embed/DnwhgSaetks\"\n",
       "            frameborder=\"0\"\n",
       "            allowfullscreen\n",
       "        ></iframe>\n",
       "        "
      ],
      "text/plain": [
       "<IPython.lib.display.YouTubeVideo at 0x102665750>"
      ]
     },
     "execution_count": 2,
     "metadata": {},
     "output_type": "execute_result"
    }
   ],
   "source": [
    "from IPython.display import YouTubeVideo\n",
    "YouTubeVideo('DnwhgSaetks')"
   ]
  },
  {
   "cell_type": "markdown",
   "metadata": {},
   "source": [
    "## Embedding interactive javascript with d3js\n",
    "\n",
    "[d3js](http://d3js.org/) is a very powerful javascript library for realtime data visualizations.\n",
    "\n",
    "First write a template file so that we can embed it later in an iframe."
   ]
  },
  {
   "cell_type": "code",
   "execution_count": 4,
   "metadata": {
    "collapsed": false
   },
   "outputs": [
    {
     "name": "stdout",
     "output_type": "stream",
     "text": [
      "Writing data/f1.template\n"
     ]
    }
   ],
   "source": [
    "%%writefile data/f1.template\n",
    "<!DOCTYPE html>\n",
    "<html>\n",
    "    <meta http-equiv=\"Content-Type\" content=\"text/html;charset=utf-8\"/>\n",
    "    <script type=\"text/javascript\" src=\"http://mbostock.github.io/d3/talk/20111018/d3/d3.js\"></script>\n",
    "    <script type=\"text/javascript\" src=\"http://mbostock.github.io/d3/talk/20111018/d3/d3.geom.js\"></script>\n",
    "    <script type=\"text/javascript\" src=\"http://mbostock.github.io/d3/talk/20111018/d3/d3.layout.js\"></script>\n",
    "    <style type=\"text/css\">\n",
    "\n",
    "circle {\n",
    "  stroke: #000;\n",
    "  stroke-opacity: .5;\n",
    "}\n",
    "\n",
    "    </style>\n",
    "  <body>\n",
    "    <div id=\"body\">\n",
    "    <script type=\"text/javascript\">\n",
    "\n",
    "var w = {width},\n",
    "    h = {height};\n",
    "\n",
    "var nodes = d3.range({ball_count}).map(function() { return {radius: Math.random() * {rad_fac} + {rad_min}}; }),\n",
    "    color = d3.scale.category10();\n",
    "\n",
    "var force = d3.layout.force()\n",
    "    .gravity(0.1)\n",
    "    .charge(function(d, i) { return i ? 0 : -2000; })\n",
    "    .nodes(nodes)\n",
    "    .size([w, h]);\n",
    "\n",
    "var root = nodes[0];\n",
    "root.radius = 0;\n",
    "root.fixed = true;\n",
    "\n",
    "force.start();\n",
    "\n",
    "var svg = d3.select(\"#body\").append(\"svg:svg\")\n",
    "    .attr(\"width\", w)\n",
    "    .attr(\"height\", h);\n",
    "\n",
    "svg.selectAll(\"circle\")\n",
    "    .data(nodes.slice(1))\n",
    "  .enter().append(\"svg:circle\")\n",
    "    .attr(\"r\", function(d) { return d.radius - 2; })\n",
    "    .style(\"fill\", function(d, i) { return color(i % {color_count}); });\n",
    "\n",
    "force.on(\"tick\", function(e) {\n",
    "  var q = d3.geom.quadtree(nodes),\n",
    "      i = 0,\n",
    "      n = nodes.length;\n",
    "\n",
    "  while (++i < n) {\n",
    "    q.visit(collide(nodes[i]));\n",
    "  }\n",
    "\n",
    "  svg.selectAll(\"circle\")\n",
    "      .attr(\"cx\", function(d) { return d.x; })\n",
    "      .attr(\"cy\", function(d) { return d.y; });\n",
    "});\n",
    "\n",
    "svg.on(\"mousemove\", function() {\n",
    "  var p1 = d3.svg.mouse(this);\n",
    "  root.px = p1[0];\n",
    "  root.py = p1[1];\n",
    "  force.resume();\n",
    "});\n",
    "\n",
    "function collide(node) {\n",
    "  var r = node.radius + 16,\n",
    "      nx1 = node.x - r,\n",
    "      nx2 = node.x + r,\n",
    "      ny1 = node.y - r,\n",
    "      ny2 = node.y + r;\n",
    "  return function(quad, x1, y1, x2, y2) {\n",
    "    if (quad.point && (quad.point !== node)) {\n",
    "      var x = node.x - quad.point.x,\n",
    "          y = node.y - quad.point.y,\n",
    "          l = Math.sqrt(x * x + y * y),\n",
    "          r = node.radius + quad.point.radius;\n",
    "      if (l < r) {\n",
    "        l = (l - r) / l * .5;\n",
    "        node.x -= x *= l;\n",
    "        node.y -= y *= l;\n",
    "        quad.point.x += x;\n",
    "        quad.point.y += y;\n",
    "      }\n",
    "    }\n",
    "    return x1 > nx2\n",
    "        || x2 < nx1\n",
    "        || y1 > ny2\n",
    "        || y2 < ny1;\n",
    "  };\n",
    "}\n",
    "\n",
    "    </script>\n",
    "  </body>\n",
    "</html>"
   ]
  },
  {
   "cell_type": "markdown",
   "metadata": {},
   "source": [
    "The following code injects data into the template and defines a function that we can call to display the d3js example."
   ]
  },
  {
   "cell_type": "code",
   "execution_count": 6,
   "metadata": {
    "collapsed": true
   },
   "outputs": [],
   "source": [
    "from IPython.display import IFrame\n",
    "import re\n",
    "\n",
    "def replace_all(txt,d):\n",
    "    rep = dict((re.escape('{'+k+'}'), str(v)) for k, v in d.items())\n",
    "    pattern = re.compile(\"|\".join(rep.keys()))\n",
    "    return pattern.sub(lambda m: rep[re.escape(m.group(0))], txt)    \n",
    "\n",
    "count=0\n",
    "def serve_html(s,w,h):\n",
    "    import os\n",
    "    global count\n",
    "    count+=1\n",
    "    fn= '__tmp'+str(os.getpid())+'_'+str(count)+'.html'\n",
    "    with open(fn,'w') as f:\n",
    "        f.write(s)\n",
    "    return IFrame('files/'+fn,w,h)\n",
    "\n",
    "def f1(w=500,h=400,ball_count=150,rad_min=2,rad_fac=11,color_count=3):\n",
    "    d={\n",
    "       'width'      :w,\n",
    "       'height'     :h,\n",
    "       'ball_count' :ball_count,\n",
    "       'rad_min'    :rad_min,\n",
    "       'rad_fac'    :rad_fac,\n",
    "       'color_count':color_count\n",
    "       }\n",
    "    with open('data/f1.template','r') as f:\n",
    "        s=f.read()\n",
    "    s= replace_all(s,d)        \n",
    "    return serve_html(s,w+30,h+30)"
   ]
  },
  {
   "cell_type": "markdown",
   "metadata": {},
   "source": [
    "This call will render our html/javascript template with the paramters passed by the python call."
   ]
  },
  {
   "cell_type": "code",
   "execution_count": 7,
   "metadata": {
    "collapsed": false
   },
   "outputs": [
    {
     "data": {
      "text/html": [
       "\n",
       "        <iframe\n",
       "            width=\"630\"\n",
       "            height=\"430\"\n",
       "            src=\"files/__tmp9683_1.html\"\n",
       "            frameborder=\"0\"\n",
       "            allowfullscreen\n",
       "        ></iframe>\n",
       "        "
      ],
      "text/plain": [
       "<IPython.lib.display.IFrame at 0x103ece190>"
      ]
     },
     "execution_count": 7,
     "metadata": {},
     "output_type": "execute_result"
    }
   ],
   "source": [
    "f1(ball_count=30, color_count=17, rad_fac=10, rad_min=3, w=600)"
   ]
  },
  {
   "cell_type": "markdown",
   "metadata": {
    "collapsed": true
   },
   "source": [
    "## Embedding another webpage"
   ]
  },
  {
   "cell_type": "code",
   "execution_count": 8,
   "metadata": {
    "collapsed": false
   },
   "outputs": [
    {
     "data": {
      "text/html": [
       "\n",
       "        <iframe\n",
       "            width=\"700\"\n",
       "            height=\"350\"\n",
       "            src=\"http://en.wikipedia.org/wiki/Trabzon\"\n",
       "            frameborder=\"0\"\n",
       "            allowfullscreen\n",
       "        ></iframe>\n",
       "        "
      ],
      "text/plain": [
       "<IPython.lib.display.IFrame at 0x103ece0d0>"
      ]
     },
     "execution_count": 8,
     "metadata": {},
     "output_type": "execute_result"
    }
   ],
   "source": [
    "from IPython.display import IFrame\n",
    "IFrame('http://en.wikipedia.org/wiki/Trabzon', width=700, height=350)"
   ]
  },
  {
   "cell_type": "code",
   "execution_count": null,
   "metadata": {
    "collapsed": true
   },
   "outputs": [],
   "source": []
  }
 ],
 "metadata": {
  "kernelspec": {
   "display_name": "Python 2",
   "language": "python",
   "name": "python2"
  },
  "language_info": {
   "codemirror_mode": {
    "name": "ipython",
    "version": 2
   },
   "file_extension": ".py",
   "mimetype": "text/x-python",
   "name": "python",
   "nbconvert_exporter": "python",
   "pygments_lexer": "ipython2",
   "version": "2.7.6"
  }
 },
 "nbformat": 4,
 "nbformat_minor": 0
}
