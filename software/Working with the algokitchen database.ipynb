{
 "cells": [
  {
   "cell_type": "markdown",
   "metadata": {},
   "source": [
    "## Working directly with the database\n",
    "The algokitchen database is called **cookbook.db**, to use it we need to load the *sqlitemagic* etension into this notebook, using the statement bellow. The **cookbook.db** is pretty large, around 1Gb in size, so if you want to run small experiments and mess around with a smaller dataset use **cookbook-small.db**."
   ]
  },
  {
   "cell_type": "code",
   "execution_count": 10,
   "metadata": {
    "collapsed": false
   },
   "outputs": [
    {
     "name": "stdout",
     "output_type": "stream",
     "text": [
      "The autoreload extension is already loaded. To reload it, use:\n",
      "  %reload_ext autoreload\n"
     ]
    },
    {
     "name": "stderr",
     "output_type": "stream",
     "text": [
      "[autoreload of sqlitemagic failed: Traceback (most recent call last):\n",
      "  File \"/usr/local/lib/python2.7/dist-packages/IPython/extensions/autoreload.py\", line 247, in check\n",
      "    superreload(m, reload, self.old_objects)\n",
      "ImportError: No module named sqlitemagic\n",
      "]\n"
     ]
    }
   ],
   "source": [
    "%load_ext autoreload\n",
    "%autoreload 2"
   ]
  },
  {
   "cell_type": "code",
   "execution_count": 11,
   "metadata": {
    "collapsed": false
   },
   "outputs": [],
   "source": [
    "%reload_ext sqlitemagic"
   ]
  },
  {
   "cell_type": "markdown",
   "metadata": {},
   "source": [
    "## Querying the cookbook\n",
    "The cookbook has three major tables: **foodstuffs** which contains the names of food items like the ones you would go shopping for. **ingredients** which contains specific quantities and preparations to be included in a recipe. **preparations** which contains the steps necessary to prepare a dish and **recipes** which contains a listing of all known recipes.\n",
    "\n",
    "To query the cookbook we will be talking directly to the database using a language called [SQL](http://www.sqlcourse.com/intro.html)."
   ]
  },
  {
   "cell_type": "markdown",
   "metadata": {},
   "source": [
    "### Foodstuffs\n",
    "Foodstuffs all have a name and *normalized* name. Normalization is often just the name of the ingredient in lowercase letters and with singular words. Get yourself familiar with the *SELECT* syntax, that's the way you can fetch data from the database. The *LIKE* operator matches rows loosely, the *%* character is used to indicate *any text*."
   ]
  },
  {
   "cell_type": "code",
   "execution_count": 12,
   "metadata": {
    "collapsed": false
   },
   "outputs": [
    {
     "data": {
      "text/html": [
       "<table>\n",
       "<tr><th>id</th><th>name</th><th>normalized</th></tr><tr><td>103</td><td>u\"goats' cheese\"</td><td>u\"goats' cheese\"</td></tr>\n",
       "<tr><td>170</td><td>u'cream cheese'</td><td>u'cream cheese'</td></tr>\n",
       "<tr><td>315</td><td>u'cheese'</td><td>u'cheese'</td></tr>\n",
       "<tr><td>693</td><td>u'halloumi cheese'</td><td>u'halloumi cheese'</td></tr>\n",
       "<tr><td>723</td><td>u'curd cheese'</td><td>u'curd cheese'</td></tr>\n",
       "<tr><td>724</td><td>u'smoked cheese'</td><td>u'smoked cheese'</td></tr>\n",
       "<tr><td>992</td><td>u\"goats' cheeses\"</td><td>u\"goats' cheese\"</td></tr>\n",
       "<tr><td>993</td><td>u'cottage cheese'</td><td>u'cottage cheese'</td></tr>\n",
       "<tr><td>996</td><td>u'fontina cheese'</td><td>u'fontina cheese'</td></tr>\n",
       "<tr><td>1089</td><td>u'cheeses'</td><td>u'cheese'</td></tr>\n",
       "<tr><td>1163</td><td>u'garlic and herb cream cheese'</td><td>u'garlic and herb cream cheese'</td></tr>\n",
       "<tr><td>1262</td><td>u'cheese sauce'</td><td>u'cheese sauce'</td></tr>\n",
       "</table>"
      ],
      "text/plain": [
       "<IPython.core.display.HTML object>"
      ]
     },
     "metadata": {},
     "output_type": "display_data"
    }
   ],
   "source": [
    "%%sqlite data/cookbook.db\n",
    "SELECT id, name, normalized FROM foodstuffs WHERE name LIKE \"%cheese%\";"
   ]
  },
  {
   "cell_type": "markdown",
   "metadata": {},
   "source": [
    "Try and change the query above for a more specific one matching 'gin'."
   ]
  },
  {
   "cell_type": "code",
   "execution_count": 13,
   "metadata": {
    "collapsed": false
   },
   "outputs": [
    {
     "data": {
      "text/html": [
       "<table>\n",
       "<tr><th>id</th><th>name</th><th>normalized</th></tr><tr><td>290</td><td>u'gin'</td><td>u'gin'</td></tr>\n",
       "<tr><td>1327</td><td>u'Gin'</td><td>u'gin'</td></tr>\n",
       "</table>"
      ],
      "text/plain": [
       "<IPython.core.display.HTML object>"
      ]
     },
     "metadata": {},
     "output_type": "display_data"
    }
   ],
   "source": [
    "%%sqlite data/cookbook.db\n",
    "SELECT id, name, normalized FROM foodstuffs WHERE name LIKE \"gin\";"
   ]
  },
  {
   "cell_type": "markdown",
   "metadata": {},
   "source": [
    "This shows that our database is not so clean after all. We found two matches, but they are in fact the same **foodstuff*.\n",
    "\n",
    "Also notice that \"gin\" matches both \"Gin\" and \"gin\", so the query is case insensitive."
   ]
  },
  {
   "cell_type": "code",
   "execution_count": 14,
   "metadata": {
    "collapsed": false
   },
   "outputs": [
    {
     "data": {
      "text/html": [
       "<table>\n",
       "<tr><th>id</th><th>name</th></tr><tr><td>11</td><td>u'Barbecue baby back ribs with celeriac slaw'</td></tr>\n",
       "<tr><td>12</td><td>u\"Terrine of Capricorn goats' cheese, apples and celery and a salad of  toasted walnuts and raisins\"</td></tr>\n",
       "<tr><td>13</td><td>u'Roast Mortimer Forest venison loin with bitter chocolate, blackberries and beetroot'</td></tr>\n",
       "<tr><td>14</td><td>u'Ackee and saltfish'</td></tr>\n",
       "<tr><td>15</td><td>u'Saltfish and ackee with fried dumplings'</td></tr>\n",
       "<tr><td>16</td><td>u'Poached smoked haddock with ackee and wilted callaloo'</td></tr>\n",
       "<tr><td>17</td><td>u'Herb-crusted red snapper with pan-fried ackee and tomato and okra chutney'</td></tr>\n",
       "<tr><td>18</td><td>u'Steak, peppers and tomatoes with ackee and mushrooms'</td></tr>\n",
       "<tr><td>19</td><td>u'Ackee and saltfish with steamed callaloo and Merlene\\u2019s fried dumplings '</td></tr>\n",
       "<tr><td>20</td><td>u'Roasted pumpkin soup'</td></tr>\n",
       "</table>"
      ],
      "text/plain": [
       "<IPython.core.display.HTML object>"
      ]
     },
     "metadata": {},
     "output_type": "display_data"
    }
   ],
   "source": [
    "%%sqlite data/cookbook.db\n",
    "SELECT id, name FROM recipes LIMIT 10, 10;"
   ]
  },
  {
   "cell_type": "code",
   "execution_count": 15,
   "metadata": {
    "collapsed": false
   },
   "outputs": [
    {
     "data": {
      "text/html": [
       "<table>\n",
       "<tr><th>id</th><th>name</th></tr><tr><td>338</td><td>u'Mincemeat, almond and pear tart'</td></tr>\n",
       "<tr><td>546</td><td>u'Christmas cake'</td></tr>\n",
       "<tr><td>981</td><td>u'Ultimate rum punch'</td></tr>\n",
       "<tr><td>990</td><td>u'Zombie'</td></tr>\n",
       "<tr><td>1495</td><td>u'The Mayflower'</td></tr>\n",
       "<tr><td>1515</td><td>u'Vermont cocktail'</td></tr>\n",
       "<tr><td>1570</td><td>u'Fred Said'</td></tr>\n",
       "<tr><td>1794</td><td>u'Roasted apricots and basil with apricot and pistachio biscotti and apricot ice cream'</td></tr>\n",
       "<tr><td>1795</td><td>u'Apricot sour'</td></tr>\n",
       "<tr><td>1796</td><td>u'Apricot mousse'</td></tr>\n",
       "<tr><td>1797</td><td>u\"Kid's apricot tarts\"</td></tr>\n",
       "<tr><td>1798</td><td>u'Apricot and Madeira cheesecake'</td></tr>\n",
       "<tr><td>1800</td><td>u'Apricot cheesecake'</td></tr>\n",
       "<tr><td>1801</td><td>u'Poached apricot in vanilla with citrus syllabub'</td></tr>\n",
       "<tr><td>1803</td><td>u'Apricot and white chocolate tiramisu'</td></tr>\n",
       "<tr><td>1804</td><td>u'Apricot brioche tart'</td></tr>\n",
       "<tr><td>1807</td><td>u'Apricot and raspberry filo tart'</td></tr>\n",
       "<tr><td>1811</td><td>u'Spicy lamb with couscous and spicy apricot chutney'</td></tr>\n",
       "<tr><td>1833</td><td>u\"'Bitter that' cocktail\"</td></tr>\n",
       "<tr><td>1834</td><td>u'Cappercaille'</td></tr>\n",
       "<tr><td>1835</td><td>u'The golden dawn'</td></tr>\n",
       "<tr><td>1836</td><td>u'Orange cream cups'</td></tr>\n",
       "<tr><td>1837</td><td>u'Sweet meringue'</td></tr>\n",
       "<tr><td>1837</td><td>u'Sweet meringue'</td></tr>\n",
       "<tr><td>1838</td><td>u'May orchid sweet and sour sauce'</td></tr>\n",
       "<tr><td>1840</td><td>u'Rum punch'</td></tr>\n",
       "<tr><td>1849</td><td>u'Grilled loin of pork with rosti potato and spiced apricots'</td></tr>\n",
       "<tr><td>1851</td><td>u'Easter Simnel cake'</td></tr>\n",
       "<tr><td>1855</td><td>u'Antipasti platter'</td></tr>\n",
       "<tr><td>1856</td><td>u'Coronation chicken'</td></tr>\n",
       "</table>"
      ],
      "text/plain": [
       "<IPython.core.display.HTML object>"
      ]
     },
     "metadata": {},
     "output_type": "display_data"
    }
   ],
   "source": [
    "%%sqlite data/cookbook.db\n",
    "SELECT r.id, r.name \n",
    "FROM recipes r \n",
    "JOIN recipes_ingredients r2i \n",
    "ON r2i.recipe_id = r.id \n",
    "WHERE r2i.ingredient_id \n",
    "IN (\n",
    "    SELECT i.id \n",
    "    FROM ingredients i, \n",
    "    foodstuffs fs \n",
    "    JOIN ingredients_foodstuffs i2f \n",
    "    ON (i2f.ingredient_id = i.id AND i2f.foodstuff_id = fs.id) \n",
    "    WHERE fs.name LIKE \"apricot\"\n",
    ");"
   ]
  },
  {
   "cell_type": "code",
   "execution_count": null,
   "metadata": {
    "collapsed": true
   },
   "outputs": [],
   "source": []
  }
 ],
 "metadata": {
  "kernelspec": {
   "display_name": "Python 2",
   "language": "python",
   "name": "python2"
  },
  "language_info": {
   "codemirror_mode": {
    "name": "ipython",
    "version": 2
   },
   "file_extension": ".py",
   "mimetype": "text/x-python",
   "name": "python",
   "nbconvert_exporter": "python",
   "pygments_lexer": "ipython2",
   "version": "2.7.3"
  }
 },
 "nbformat": 4,
 "nbformat_minor": 0
}
