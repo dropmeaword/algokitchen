{
 "cells": [
  {
   "cell_type": "code",
   "execution_count": 2,
   "metadata": {
    "collapsed": false
   },
   "outputs": [
    {
     "name": "stdout",
     "output_type": "stream",
     "text": [
      "3.2.1\n"
     ]
    }
   ],
   "source": [
    "import IPython\n",
    "print IPython.__version__"
   ]
  },
  {
   "cell_type": "markdown",
   "metadata": {},
   "source": [
    "**Remember to install https://github.com/dropmeaword/sqlitemagic.**"
   ]
  },
  {
   "cell_type": "markdown",
   "metadata": {},
   "source": [
    "## Self-update"
   ]
  },
  {
   "cell_type": "code",
   "execution_count": 1,
   "metadata": {
    "collapsed": false
   },
   "outputs": [
    {
     "name": "stdout",
     "output_type": "stream",
     "text": [
      "About this system\n",
      "Embedding media in your cookbook.ipynb\n",
      "Sourcing data off the internet.ipynb\n",
      "Using social networks.ipynb\n",
      "Working with the algokitchen database.ipynb\n",
      "__tmp2622_1.html\n",
      "__tmp6945_1.html\n",
      "data\n"
     ]
    },
    {
     "name": "stderr",
     "output_type": "stream",
     "text": [
      "bash: warning: setlocale: LC_ALL: cannot change locale (en_US.UTF-8)\n",
      "fatal: Not a git repository (or any of the parent directories): .git\n",
      "fatal: Not a git repository (or any of the parent directories): .git\n"
     ]
    }
   ],
   "source": [
    "%%bash\n",
    "ls ../\n",
    "\n",
    "# Displays the status of the local repository\n",
    "git status\n",
    "\n",
    "git pull"
   ]
  },
  {
   "cell_type": "code",
   "execution_count": 3,
   "metadata": {
    "collapsed": false
   },
   "outputs": [
    {
     "name": "stdout",
     "output_type": "stream",
     "text": [
      "total 28\r\n",
      "-rw-r--r-- 1 algokitchen algokitchen  304 Jul 28 01:21 Cookbook examples.ipynb\r\n",
      "-rw-r--r-- 1 algokitchen algokitchen 8600 Jul 28 03:32 Embedding media in your cookbook.ipynb\r\n",
      "-rw-r--r-- 1 algokitchen algokitchen 3324 Jul 28 03:39 Getting started.ipynb\r\n",
      "-rw-r--r-- 1 algokitchen algokitchen 2330 Jul 28 02:38 __tmp2622_1.html\r\n",
      "-rw-r--r-- 1 algokitchen algokitchen 2375 Jul 28 03:30 f1.template\r\n"
     ]
    }
   ],
   "source": [
    "ls -l"
   ]
  },
  {
   "cell_type": "code",
   "execution_count": 2,
   "metadata": {
    "collapsed": false
   },
   "outputs": [
    {
     "name": "stdout",
     "output_type": "stream",
     "text": [
      "ls: cannot access data/: No such file or directory\r\n"
     ]
    }
   ],
   "source": [
    "ls -l data/"
   ]
  },
  {
   "cell_type": "code",
   "execution_count": 2,
   "metadata": {
    "collapsed": false
   },
   "outputs": [
    {
     "name": "stdout",
     "output_type": "stream",
     "text": [
      "[nltk_data] Downloading package words to\n",
      "[nltk_data]     /home/algokitchen/nltk_data...\n",
      "[nltk_data]   Package words is already up-to-date!\n",
      "[nltk_data] Downloading package webtext to\n",
      "[nltk_data]     /home/algokitchen/nltk_data...\n",
      "[nltk_data]   Package webtext is already up-to-date!\n",
      "[nltk_data] Downloading package wordnet to\n",
      "[nltk_data]     /home/algokitchen/nltk_data...\n",
      "[nltk_data]   Package wordnet is already up-to-date!\n",
      "[nltk_data] Downloading package punkt to\n",
      "[nltk_data]     /home/algokitchen/nltk_data...\n",
      "[nltk_data]   Package punkt is already up-to-date!\n",
      "[nltk_data] Downloading package maxent_treebank_pos_tagger to\n",
      "[nltk_data]     /home/algokitchen/nltk_data...\n",
      "[nltk_data]   Unzipping taggers/maxent_treebank_pos_tagger.zip.\n"
     ]
    },
    {
     "data": {
      "text/plain": [
       "True"
      ]
     },
     "execution_count": 2,
     "metadata": {},
     "output_type": "execute_result"
    }
   ],
   "source": [
    "import nltk\n",
    "\n",
    "packages = ['words', 'webtext', 'wordnet', 'punkt', 'maxent_treebank_pos_tagger']\n",
    "nltk.downloader.download(packages)"
   ]
  },
  {
   "cell_type": "code",
   "execution_count": null,
   "metadata": {
    "collapsed": true
   },
   "outputs": [],
   "source": []
  }
 ],
 "metadata": {
  "kernelspec": {
   "display_name": "Python 2",
   "language": "python",
   "name": "python2"
  },
  "language_info": {
   "codemirror_mode": {
    "name": "ipython",
    "version": 2
   },
   "file_extension": ".py",
   "mimetype": "text/x-python",
   "name": "python",
   "nbconvert_exporter": "python",
   "pygments_lexer": "ipython2",
   "version": "2.7.3"
  }
 },
 "nbformat": 4,
 "nbformat_minor": 0
}
